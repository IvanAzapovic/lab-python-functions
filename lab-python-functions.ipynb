{
 "cells": [
  {
   "cell_type": "markdown",
   "id": "25d7736c-ba17-4aff-b6bb-66eba20fbf4e",
   "metadata": {},
   "source": [
    "# Lab | Functions"
   ]
  },
  {
   "cell_type": "markdown",
   "id": "0c581062-8967-4d93-b06e-62833222f930",
   "metadata": {
    "tags": []
   },
   "source": [
    "## Exercise: Managing Customer Orders with Functions\n",
    "\n",
    "In the previous exercise, you improved the code for managing customer orders by using loops and flow control. Now, let's take it a step further and refactor the code by introducing functions.\n",
    "\n",
    "Follow the steps below to complete the exercise:\n",
    "\n",
    "1. Define a function named `initialize_inventory` that takes `products` as a parameter. Inside the function, implement the code for initializing the inventory dictionary using a loop and user input.\n",
    "\n",
    "2. Define a function named `get_customer_orders` that takes no parameters. Inside the function, implement the code for prompting the user to enter the product names using a loop. The function should return the `customer_orders` set.\n",
    "\n",
    "3. Define a function named `update_inventory` that takes `customer_orders` and `inventory` as parameters. Inside the function, implement the code for updating the inventory dictionary based on the customer orders.\n",
    "\n",
    "4. Define a function named `calculate_order_statistics` that takes `customer_orders` and `products` as parameters. Inside the function, implement the code for calculating the order statistics (total products ordered, and percentage of unique products ordered). The function should return these values.\n",
    "\n",
    "5. Define a function named `print_order_statistics` that takes `order_statistics` as a parameter. Inside the function, implement the code for printing the order statistics.\n",
    "\n",
    "6. Define a function named `print_updated_inventory` that takes `inventory` as a parameter. Inside the function, implement the code for printing the updated inventory.\n",
    "\n",
    "7. Call the functions in the appropriate sequence to execute the program and manage customer orders.\n",
    "\n",
    "Hints for functions:\n",
    "\n",
    "- Consider the input parameters required for each function and their return values.\n",
    "- Utilize function parameters and return values to transfer data between functions.\n",
    "- Test your functions individually to ensure they work correctly.\n",
    "\n",
    "\n"
   ]
  },
  {
   "cell_type": "code",
   "execution_count": 5,
   "id": "b04f8bfe-4550-4a40-8fe0-b9ac91ac2ba8",
   "metadata": {},
   "outputs": [
    {
     "name": "stdin",
     "output_type": "stream",
     "text": [
      "Please enter the quantity of the t-shirt: 5\n",
      "Please enter the quantity of the mug: 14\n",
      "Please enter the quantity of the hat: 13\n",
      "Please enter the quantity of the book: 7\n",
      "Please enter the quantity of the keychain: 6\n",
      "Enter the name of a the product that you want to order from product lists  hat\n",
      "Would you like to add another product (yes/no). yes\n",
      "Enter the name of a the product that you want to order from product lists       mug\n",
      "Would you like to add another product (yes/no). yes\n",
      "Enter the name of a the product that you want to order from product lists  key\n"
     ]
    },
    {
     "name": "stdout",
     "output_type": "stream",
     "text": [
      "This product does not exist, please choose product from the list\n"
     ]
    },
    {
     "name": "stdin",
     "output_type": "stream",
     "text": [
      "Enter the name of a the product that you want to order from product lists  keychain\n",
      "Would you like to add another product (yes/no). no\n"
     ]
    },
    {
     "name": "stdout",
     "output_type": "stream",
     "text": [
      "Order Statistics:\n",
      "\n",
      "Total Products Ordered: 3\n",
      "Percentage of Products Ordered: 7.142857142857142%\n",
      "Updated inventory:\n",
      "t-shirt = 5\n",
      "mug = 13\n",
      "hat = 12\n",
      "book = 7\n",
      "keychain = 5\n"
     ]
    }
   ],
   "source": [
    "# Define a function named initialize_inventory that takes products as a parameter.\n",
    "# Inside the function, implement the code for initializing the inventory dictionary using a loop and user input.\n",
    "\n",
    "def initialize_inventory(products):\n",
    "    inventory={}\n",
    "    for product in products:\n",
    "        quantity=input(f\"Please enter the quantity of the {product}:\")\n",
    "        inventory[product]=int(quantity)\n",
    "    return inventory\n",
    "\n",
    "# Define a function named get_customer_orders that takes no parameters. \n",
    "# Inside the function, implement the code for prompting the user to enter the product names using a loop. \n",
    "# The function should return the customer_orders set.\n",
    "\n",
    "def get_customer_orders():\n",
    "    customer_orders=set()\n",
    "    while True:\n",
    "        input_product=input(\"Enter the name of a the product that you want to order from product lists \").strip()\n",
    "        if input_product in products:\n",
    "            customer_orders.add(input_product)\n",
    "            add_more= input(\"Would you like to add another product (yes/no).\").lower()\n",
    "            if add_more != \"yes\":\n",
    "                break\n",
    "        else:\n",
    "            print(\"This product does not exist, please choose product from the list\")\n",
    "    return customer_orders\n",
    "        \n",
    "# Define a function named update_inventory that takes customer_orders and inventory as parameters.\n",
    "# Inside the function, implement the code for updating the inventory dictionary based on the customer orders.\n",
    "def update_inventory(customer_orders, inventory):\n",
    "    for product in customer_orders:\n",
    "        if product in inventory:\n",
    "            inventory[product]-=1\n",
    "\n",
    "\n",
    "# Define a function named calculate_order_statistics that takes customer_orders and products as parameters.\n",
    "# Inside the function, implement the code for calculating the order statistics \n",
    "# (total products ordered, and percentage of unique products ordered). The function should return these values.\n",
    "def calculate_order_statistics(customer_orders,products):\n",
    "    total_products_ordered=len(customer_orders)\n",
    "    percentage_ordered=len(customer_orders)/sum(inventory.values())*100\n",
    "    return total_products_ordered, percentage_ordered\n",
    "\n",
    "# Define a function named `print_order_statistics` that takes `order_statistics` as a parameter. \n",
    "# Inside the function, implement the code for printing the order statistics.\n",
    "\n",
    "def print_order_statistics(order_statistics):\n",
    "    total_products_ordered, percentage_ordered = order_statistics\n",
    "    print(\"Order Statistics:\")\n",
    "    print()\n",
    "    print(f\"Total Products Ordered: {total_products_ordered}\")\n",
    "    print(f\"Percentage of Products Ordered: {percentage_ordered}%\")\n",
    "\n",
    "    \n",
    "# Define a function named print_updated_inventory that takes inventory as a parameter. \n",
    "# Inside the function, implement the code for printing the updated inventory.\n",
    "\n",
    "def print_updated_inventory(inventory):\n",
    "    print(\"Updated inventory:\")\n",
    "    for product, value in inventory.items():\n",
    "        print(f\"{product} = {value}\")\n",
    "\n",
    "products = [\"t-shirt\", \"mug\", \"hat\", \"book\", \"keychain\"]\n",
    "inventory= initialize_inventory(products)\n",
    "customer_orders= get_customer_orders()\n",
    "update_inventory(customer_orders, inventory)\n",
    "order_statistics=calculate_order_statistics(customer_orders,products)\n",
    "print_order_statistics(order_statistics)\n",
    "print_updated_inventory(inventory)"
   ]
  },
  {
   "cell_type": "code",
   "execution_count": null,
   "id": "184c25b8-20bc-48ac-a5b3-d5f6c947ac3b",
   "metadata": {},
   "outputs": [],
   "source": []
  }
 ],
 "metadata": {
  "kernelspec": {
   "display_name": "Python 3 (ipykernel)",
   "language": "python",
   "name": "python3"
  },
  "language_info": {
   "codemirror_mode": {
    "name": "ipython",
    "version": 3
   },
   "file_extension": ".py",
   "mimetype": "text/x-python",
   "name": "python",
   "nbconvert_exporter": "python",
   "pygments_lexer": "ipython3",
   "version": "3.12.4"
  }
 },
 "nbformat": 4,
 "nbformat_minor": 5
}
